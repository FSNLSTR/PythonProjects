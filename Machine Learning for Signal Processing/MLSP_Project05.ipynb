{
  "nbformat": 4,
  "nbformat_minor": 0,
  "metadata": {
    "colab": {
      "provenance": [],
      "authorship_tag": "ABX9TyOXquJtLT3SM7P7WstJX5R0",
      "include_colab_link": true
    },
    "kernelspec": {
      "name": "python3",
      "display_name": "Python 3"
    },
    "language_info": {
      "name": "python"
    }
  },
  "cells": [
    {
      "cell_type": "markdown",
      "metadata": {
        "id": "view-in-github",
        "colab_type": "text"
      },
      "source": [
        "<a href=\"https://colab.research.google.com/github/FSNLSTR/PythonProjects/blob/main/MLSP_Project05.ipynb\" target=\"_parent\"><img src=\"https://colab.research.google.com/assets/colab-badge.svg\" alt=\"Open In Colab\"/></a>"
      ]
    },
    {
      "cell_type": "code",
      "execution_count": null,
      "metadata": {
        "id": "zqUoWLiBKP_U"
      },
      "outputs": [],
      "source": [
        "import os\n",
        "import scipy\n",
        "import numpy as np\n",
        "import pandas as pd\n",
        "import librosa as lb\n",
        "from PIL import Image\n",
        "import matplotlib.pyplot as plt\n",
        "from IPython.display import Audio"
      ]
    },
    {
      "cell_type": "markdown",
      "source": [
        "P1"
      ],
      "metadata": {
        "id": "Xszl2xO1RaOz"
      }
    },
    {
      "cell_type": "code",
      "source": [
        "trs, sr = lb.load('trs.wav', sr=None)\n",
        "\n",
        "def dft_matrix(m_size):\n",
        "  dft_matrix = np.array([[np.exp(-1j * (2 * np.pi * f * n / m_size)) for f in range(0, m_size)] for n in range(0, m_size)])\n",
        "  return dft_matrix\n",
        "\n",
        "def h_window(data, size):\n",
        "  hann = np.hanning(size)\n",
        "  new_data = []\n",
        "  counter = 0\n",
        "\n",
        "  while (counter + size) <= data.shape[0]:\n",
        "    window = np.multiply(data[counter:counter+size], hann)\n",
        "    new_data.append(window)\n",
        "    counter += int(size/2)\n",
        "\n",
        "  new_matrix = np.array(new_data).T\n",
        "  return new_matrix\n",
        "\n",
        "dft = dft_matrix(1024)\n",
        "trs_h = h_window(trs, 1024)\n",
        "trs_s = np.abs(np.dot(dft, trs_h)[:513,:]) #Only using the first 513 rows since the second half is just a mirror of the first\n",
        "trs_s.shape"
      ],
      "metadata": {
        "id": "c5TeHIJTRiNV",
        "colab": {
          "base_uri": "https://localhost:8080/"
        },
        "outputId": "594e6245-f94c-4e85-cc1d-e1b307d6c165"
      },
      "execution_count": null,
      "outputs": [
        {
          "output_type": "execute_result",
          "data": {
            "text/plain": [
              "(513, 786)"
            ]
          },
          "metadata": {},
          "execution_count": 2
        }
      ]
    },
    {
      "cell_type": "code",
      "source": [
        "# Reading in trn\n",
        "trn, sr = lb.load('trn.wav', sr = None)\n",
        "trn_h = h_window(trn, 1024)\n",
        "trn_s = np.abs(np.dot(dft, trn_h)[:513,:])\n",
        "trn_s.shape"
      ],
      "metadata": {
        "id": "LhKRydOgW4v9",
        "outputId": "6eb5aca6-7300-44ba-8351-f39aee3e29a9",
        "colab": {
          "base_uri": "https://localhost:8080/"
        }
      },
      "execution_count": null,
      "outputs": [
        {
          "output_type": "execute_result",
          "data": {
            "text/plain": [
              "(513, 786)"
            ]
          },
          "metadata": {},
          "execution_count": 3
        }
      ]
    },
    {
      "cell_type": "code",
      "source": [
        "def plsi(X, max_iter=3000, tol=1e-6):\n",
        "  num_topics = 30\n",
        "  B = np.random.rand(X.shape[0], num_topics)\n",
        "  theta = np.random.rand(num_topics, X.shape[1])\n",
        "  I_V = np.ones((X.shape[0], X.shape[0]))\n",
        "  I_K = np.ones((X.shape[1], X.shape[1]))\n",
        "\n",
        "  for i in range(max_iter):\n",
        "    # E-step and M-step combined for updating B\n",
        "    B = B * ((X/(B @ theta)) @ theta.T)\n",
        "    B = B / (I_V @ B)\n",
        "\n",
        "\n",
        "    # E-step and M-step combined for updating theta\n",
        "    theta = theta * (B.T @ (X / np.dot(B, theta)))\n",
        "    theta = theta / (theta @ I_K)\n",
        "\n",
        "  return B, theta\n",
        "\n",
        "B_s, theta_s = plsi(trs_s)\n",
        "B_s.shape"
      ],
      "metadata": {
        "colab": {
          "base_uri": "https://localhost:8080/"
        },
        "id": "CRbaMKRwpAGW",
        "outputId": "11757585-0847-463e-a7eb-82c76797aed2"
      },
      "execution_count": null,
      "outputs": [
        {
          "output_type": "execute_result",
          "data": {
            "text/plain": [
              "(513, 30)"
            ]
          },
          "metadata": {},
          "execution_count": 4
        }
      ]
    },
    {
      "cell_type": "code",
      "source": [
        "B_n, theta_n = plsi(trn_s)\n",
        "B_n.shape"
      ],
      "metadata": {
        "id": "AJgJzIBxUT_X",
        "colab": {
          "base_uri": "https://localhost:8080/"
        },
        "outputId": "53c22950-8d2a-4b53-b5d1-0c56c5cdd01c"
      },
      "execution_count": null,
      "outputs": [
        {
          "output_type": "execute_result",
          "data": {
            "text/plain": [
              "(513, 30)"
            ]
          },
          "metadata": {},
          "execution_count": 5
        }
      ]
    },
    {
      "cell_type": "code",
      "source": [
        "B = np.concatenate((B_s, B_n), axis = 1)\n",
        "B.shape"
      ],
      "metadata": {
        "colab": {
          "base_uri": "https://localhost:8080/"
        },
        "id": "BSXN9Xm-_cUS",
        "outputId": "0f2bf94d-7b05-483c-8216-6171a678b0bb"
      },
      "execution_count": null,
      "outputs": [
        {
          "output_type": "execute_result",
          "data": {
            "text/plain": [
              "(513, 60)"
            ]
          },
          "metadata": {},
          "execution_count": 6
        }
      ]
    },
    {
      "cell_type": "code",
      "source": [
        "def plsi_theta(X, B, max_iter=3000, tol=1e-6):\n",
        "  #Doubled the number of topics to match the B's dimensions\n",
        "  num_topics = 60\n",
        "  theta = np.random.rand(num_topics, X.shape[1])\n",
        "  I_K = np.ones((X.shape[1], X.shape[1]))\n",
        "\n",
        "  for i in range(max_iter):\n",
        "    theta = theta * (B.T @ (X / np.dot(B, theta)))\n",
        "    theta = theta / (theta @ I_K)\n",
        "  return theta\n",
        "\n",
        "def idft_matrix(m_size):\n",
        "  dft_matrix = np.array([[np.exp(1j * (2 * np.pi * f * n /m_size)) for f in range(0,m_size)] for n in range(0,m_size)])\n",
        "  idft_matrix = dft_matrix/m_size\n",
        "  return idft_matrix"
      ],
      "metadata": {
        "id": "5ZwGqHSG_fIu"
      },
      "execution_count": null,
      "outputs": []
    },
    {
      "cell_type": "code",
      "source": [
        "tes, sr = lb.load('tes.wav', sr=None)\n",
        "tes_h = h_window(tes, 1024)\n",
        "tes_s = np.dot(dft, tes_h)[:513,:] # X\n",
        "abs_tes_s = np.abs(tes_s) # Y\n",
        "print(tes_s.shape, abs_tes_s.shape)"
      ],
      "metadata": {
        "colab": {
          "base_uri": "https://localhost:8080/"
        },
        "id": "eRG31fc1Kcr9",
        "outputId": "01aafb79-92a6-4d4a-bbe7-f4ea4d7887d0"
      },
      "execution_count": null,
      "outputs": [
        {
          "output_type": "stream",
          "name": "stdout",
          "text": [
            "(513, 98) (513, 98)\n"
          ]
        }
      ]
    },
    {
      "cell_type": "code",
      "source": [
        "theta = plsi_theta(abs_tes_s, B)\n",
        "theta.shape"
      ],
      "metadata": {
        "colab": {
          "base_uri": "https://localhost:8080/"
        },
        "id": "B0x_9VGwKwU6",
        "outputId": "c9b47b04-7249-4376-de8f-48efc3c4e5bd"
      },
      "execution_count": null,
      "outputs": [
        {
          "output_type": "execute_result",
          "data": {
            "text/plain": [
              "(60, 98)"
            ]
          },
          "metadata": {},
          "execution_count": 9
        }
      ]
    },
    {
      "cell_type": "code",
      "source": [
        "M_bar = np.dot(B_s, theta[0:30, :])/np.dot(B, theta)\n",
        "S_hat = M_bar * tes_s\n",
        "S_hat.shape"
      ],
      "metadata": {
        "colab": {
          "base_uri": "https://localhost:8080/"
        },
        "id": "_1duUIx-KnSI",
        "outputId": "9ddbfdbf-94e7-430e-8117-3cc570429551"
      },
      "execution_count": null,
      "outputs": [
        {
          "output_type": "execute_result",
          "data": {
            "text/plain": [
              "(513, 98)"
            ]
          },
          "metadata": {},
          "execution_count": 10
        }
      ]
    },
    {
      "cell_type": "code",
      "source": [
        "S = np.concatenate((S_hat, np.flip(np.conjugate(S_hat[1:512, :]), axis = 0)), axis=0)\n",
        "S.shape"
      ],
      "metadata": {
        "colab": {
          "base_uri": "https://localhost:8080/"
        },
        "id": "Xuq1op50K2fS",
        "outputId": "a977262b-973f-4419-aa3f-60809449fc32"
      },
      "execution_count": null,
      "outputs": [
        {
          "output_type": "execute_result",
          "data": {
            "text/plain": [
              "(1024, 98)"
            ]
          },
          "metadata": {},
          "execution_count": 11
        }
      ]
    },
    {
      "cell_type": "code",
      "source": [
        "inverse_dft = idft_matrix(1024)\n",
        "S_r = (inverse_dft @ S).real\n",
        "S_td = S_r[:(S_r.shape[0] - int(1024/2)),0]\n",
        "\n",
        "for column in range(1,S_r.shape[1]):\n",
        "  X_col = S_r[(S_r.shape[0] - int(1024/2)):,column-1] + S_r[0:int(1024/2), column]\n",
        "  S_td = np.concatenate((S_td, X_col))\n",
        "\n",
        "S_td = S_td.reshape(-1)\n",
        "S_td.shape"
      ],
      "metadata": {
        "colab": {
          "base_uri": "https://localhost:8080/"
        },
        "id": "iZFgYTytK-vW",
        "outputId": "0ed9f9bf-d4ee-44d7-f662-c3d42006c6e7"
      },
      "execution_count": null,
      "outputs": [
        {
          "output_type": "execute_result",
          "data": {
            "text/plain": [
              "(50176,)"
            ]
          },
          "metadata": {},
          "execution_count": 12
        }
      ]
    },
    {
      "cell_type": "code",
      "source": [
        "# Calculate Signal-to-Noise Ratio (SNR)\n",
        "S_td = np.pad(S_td, (0, len(tes) - len(S_td)), 'constant')\n",
        "\n",
        "SNR = 10 * np.log10(np.dot(tes.T, tes) / np.dot((tes - S_td).T, (tes - S_td)))\n",
        "print(\"tes SNR:\", SNR)"
      ],
      "metadata": {
        "colab": {
          "base_uri": "https://localhost:8080/"
        },
        "id": "w38di0RoLCBg",
        "outputId": "074eec9c-7ab5-41b0-d7c4-69c719f243bc"
      },
      "execution_count": null,
      "outputs": [
        {
          "output_type": "stream",
          "name": "stdout",
          "text": [
            "tes SNR: 11.736420495434318\n"
          ]
        }
      ]
    },
    {
      "cell_type": "code",
      "source": [
        "tex, sr = lb.load('tex.wav', sr=None)\n",
        "tex_h = h_window(tex, 1024)\n",
        "tex_s = np.dot(dft, tex_h)[:513,:] # X\n",
        "abs_tex_s = np.abs(tex_s) # Y\n",
        "print(tex_s.shape, abs_tex_s.shape)"
      ],
      "metadata": {
        "colab": {
          "base_uri": "https://localhost:8080/"
        },
        "id": "f_8ODRqB7mnE",
        "outputId": "72260f23-f9e8-4102-cfe5-9bb48f3626e3"
      },
      "execution_count": null,
      "outputs": [
        {
          "output_type": "stream",
          "name": "stdout",
          "text": [
            "(513, 98) (513, 98)\n"
          ]
        }
      ]
    },
    {
      "cell_type": "code",
      "source": [
        "theta = plsi_theta(abs_tex_s, B)\n",
        "theta.shape"
      ],
      "metadata": {
        "colab": {
          "base_uri": "https://localhost:8080/"
        },
        "id": "lqV6q0kPKu5T",
        "outputId": "8410715a-b933-4fa0-ffdc-564fea090ffd"
      },
      "execution_count": null,
      "outputs": [
        {
          "output_type": "execute_result",
          "data": {
            "text/plain": [
              "(60, 98)"
            ]
          },
          "metadata": {},
          "execution_count": 15
        }
      ]
    },
    {
      "cell_type": "code",
      "source": [
        "M_bar = np.dot(B_s, theta[0:30, :])/np.dot(B, theta)\n",
        "S_hat = M_bar * tex_s\n",
        "S_hat.shape"
      ],
      "metadata": {
        "colab": {
          "base_uri": "https://localhost:8080/"
        },
        "id": "Ogn8xvWzBx_E",
        "outputId": "1ab0d4a5-cd78-4457-b083-2c32a4e7a407"
      },
      "execution_count": null,
      "outputs": [
        {
          "output_type": "execute_result",
          "data": {
            "text/plain": [
              "(513, 98)"
            ]
          },
          "metadata": {},
          "execution_count": 16
        }
      ]
    },
    {
      "cell_type": "code",
      "source": [
        "S = np.concatenate((S_hat, np.flip(np.conjugate(S_hat[1:512, :]), axis = 0)), axis=0)\n",
        "S.shape"
      ],
      "metadata": {
        "colab": {
          "base_uri": "https://localhost:8080/"
        },
        "id": "lICD6unlDT80",
        "outputId": "7ce92e09-6678-42b8-cbfb-8e3851def378"
      },
      "execution_count": null,
      "outputs": [
        {
          "output_type": "execute_result",
          "data": {
            "text/plain": [
              "(1024, 98)"
            ]
          },
          "metadata": {},
          "execution_count": 17
        }
      ]
    },
    {
      "cell_type": "code",
      "source": [
        "inverse_dft = idft_matrix(1024)\n",
        "S_r = (inverse_dft @ S).real\n",
        "S_td = S_r[:(S_r.shape[0] - int(1024/2)),0]\n",
        "\n",
        "for column in range(1,S_r.shape[1]):\n",
        "  X_col = S_r[(S_r.shape[0] - int(1024/2)):,column-1] + S_r[0:int(1024/2), column]\n",
        "  S_td = np.concatenate((S_td, X_col))\n",
        "\n",
        "S_td = S_td.reshape(-1)\n",
        "S_td.shape"
      ],
      "metadata": {
        "colab": {
          "base_uri": "https://localhost:8080/"
        },
        "id": "m7xUHE9ADWtf",
        "outputId": "2dc4aebf-96ec-4d19-ceec-24b9881658e2"
      },
      "execution_count": null,
      "outputs": [
        {
          "output_type": "execute_result",
          "data": {
            "text/plain": [
              "(50176,)"
            ]
          },
          "metadata": {},
          "execution_count": 18
        }
      ]
    },
    {
      "cell_type": "code",
      "source": [
        "# Calculate Signal-to-Noise Ratio (SNR)\n",
        "S_td = np.pad(S_td, (0, len(tex) - len(S_td)), 'constant')\n",
        "\n",
        "SNR = 10 * np.log10(np.dot(tex.T, tex) / np.dot((tex - S_td).T, (tex - S_td)))\n",
        "print(\"tex SNR:\", SNR)"
      ],
      "metadata": {
        "colab": {
          "base_uri": "https://localhost:8080/"
        },
        "id": "E_F0NwvXH-V9",
        "outputId": "97ef5979-f59c-40fc-bc03-97dfc34ec21e"
      },
      "execution_count": null,
      "outputs": [
        {
          "output_type": "stream",
          "name": "stdout",
          "text": [
            "tex SNR: 5.285431316967073\n"
          ]
        }
      ]
    },
    {
      "cell_type": "markdown",
      "source": [
        "P2"
      ],
      "metadata": {
        "id": "kQhqBP6tRYAo"
      }
    },
    {
      "cell_type": "code",
      "source": [
        "# Load the faces data\n",
        "faces_data = np.load('faces.npy')\n",
        "faces_data.shape"
      ],
      "metadata": {
        "id": "_MKSsujmRik-",
        "colab": {
          "base_uri": "https://localhost:8080/"
        },
        "outputId": "4db4602e-05e5-4232-a93e-f042578a4806"
      },
      "execution_count": null,
      "outputs": [
        {
          "output_type": "execute_result",
          "data": {
            "text/plain": [
              "(441, 8)"
            ]
          },
          "metadata": {},
          "execution_count": 101
        }
      ]
    },
    {
      "cell_type": "code",
      "source": [
        "# Plot the eight human faces\n",
        "fig, axes = plt.subplots(2, 4, figsize=(10, 5))\n",
        "for i, ax in enumerate(axes.flat):\n",
        "    face = faces_data[:, i].reshape(21, 21)\n",
        "    ax.imshow(face, cmap='gray')\n",
        "    ax.axis('off')\n",
        "    ax.set_title(f'Face {i+1}')\n",
        "plt.tight_layout()\n",
        "plt.show()"
      ],
      "metadata": {
        "colab": {
          "base_uri": "https://localhost:8080/",
          "height": 510
        },
        "id": "OkSjHgnrO_eS",
        "outputId": "65fac9a8-81f0-462c-9914-86ce092f9711"
      },
      "execution_count": null,
      "outputs": [
        {
          "output_type": "display_data",
          "data": {
            "text/plain": [
              "<Figure size 1000x500 with 8 Axes>"
            ],
            "image/png": "[encoded data removed]"
          },
          "metadata": {}
        }
      ]
    },
    {
      "cell_type": "code",
      "source": [
        "def plsi_face(X, K, max_iter=10000, epsilon=1e-6):\n",
        "    # Initialize B and Theta randomly\n",
        "    num_faces = X.shape[1]\n",
        "    num_features = X.shape[0]\n",
        "\n",
        "    B = np.random.rand(num_features, K)\n",
        "    theta = np.random.rand(K, num_faces)\n",
        "\n",
        "    I_V = np.ones((X.shape[0], X.shape[0]))\n",
        "    I_K = np.ones((X.shape[1], X.shape[1]))\n",
        "\n",
        "    # EM algorithm\n",
        "    for _ in range(max_iter):\n",
        "        B = B * ((X/(epsilon + (B @ theta))) @ theta.T)\n",
        "        B = B / (I_V @ B)\n",
        "\n",
        "        theta = theta * (B.T @ (X / (epsilon + (B @ theta))))\n",
        "        theta = theta / (theta @ I_K)\n",
        "\n",
        "    return B, theta\n",
        "\n",
        "\n",
        "# Define a function to train PLSI model and plot basis images\n",
        "def train_and_plot_plsi(K):\n",
        "    # Train PLSI model\n",
        "    B, theta = plsi_face(faces_data, K)\n",
        "    print((B.shape, theta.shape))\n",
        "\n",
        "    # Plot basis images\n",
        "    fig, axes = plt.subplots(1, K, figsize=(15, 5))\n",
        "    for k, ax in enumerate(axes.flat):\n",
        "        basis_image = B[:, k].reshape(21, 21)\n",
        "        ax.imshow(basis_image, cmap='gray')\n",
        "        ax.axis('off')\n",
        "        ax.set_title(f'Basis Image {k+1}')\n",
        "    plt.tight_layout()\n",
        "    plt.show()\n",
        "\n",
        "    return B, theta\n",
        "\n",
        "# Choose the optimal K (2 head sizes, 2 head shapes, 2 mouth positions)\n",
        "optimal_K = 6\n",
        "\n",
        "# Train PLSI model with optimal K and plot basis images\n",
        "B, theta = train_and_plot_plsi(optimal_K)"
      ],
      "metadata": {
        "colab": {
          "base_uri": "https://localhost:8080/",
          "height": 221
        },
        "id": "8fqHjtJjPKxI",
        "outputId": "900505c8-10f5-4c3a-eac9-3a92a68c3030"
      },
      "execution_count": null,
      "outputs": [
        {
          "output_type": "stream",
          "name": "stdout",
          "text": [
            "((441, 6), (6, 8))\n"
          ]
        },
        {
          "output_type": "display_data",
          "data": {
            "text/plain": [
              "<Figure size 1500x500 with 6 Axes>"
            ],
            "image/png": "[encoded data removed]"
          },
          "metadata": {}
        }
      ]
    },
    {
      "cell_type": "code",
      "source": [
        "# Plot Theta\n",
        "plt.figure(figsize=(10, 5))\n",
        "plt.imshow(theta, cmap='hot', aspect='auto')\n",
        "plt.colorbar(label='Probability')\n",
        "plt.xlabel('Face Index')\n",
        "plt.ylabel('Basis Image Index')\n",
        "plt.title('Probability Distribution of Basis Images for Each Face')\n",
        "plt.show()\n"
      ],
      "metadata": {
        "colab": {
          "base_uri": "https://localhost:8080/",
          "height": 487
        },
        "id": "DjGNwagESFis",
        "outputId": "5189cd18-6592-42e5-c1b9-47e10ec418d1"
      },
      "execution_count": null,
      "outputs": [
        {
          "output_type": "display_data",
          "data": {
            "text/plain": [
              "<Figure size 1000x500 with 2 Axes>"
            ],
            "image/png": "[encoded data removed]"
          },
          "metadata": {}
        }
      ]
    },
    {
      "cell_type": "code",
      "source": [
        "# Reconstruct input images\n",
        "X_reconstructed = B @ theta\n",
        "\n"
      ],
      "metadata": {
        "id": "EUTbgIDAWX0A"
      },
      "execution_count": null,
      "outputs": []
    },
    {
      "cell_type": "code",
      "source": [
        "# Plot reconstructed images\n",
        "fig, axes = plt.subplots(2, 4, figsize=(10, 5))\n",
        "for i, ax in enumerate(axes.flat):\n",
        "    reconstructed_image = X_reconstructed[:, i].reshape(21, 21)\n",
        "    ax.imshow(reconstructed_image, cmap='gray')\n",
        "    ax.axis('off')\n",
        "    ax.set_title(f'Reconstructed Face {i+1}')\n",
        "plt.tight_layout()\n",
        "plt.show()\n"
      ],
      "metadata": {
        "colab": {
          "base_uri": "https://localhost:8080/",
          "height": 510
        },
        "id": "C-Lvrz2gSRyx",
        "outputId": "2ac32eb8-b5e1-4074-ff4f-7f64a4fbee7b"
      },
      "execution_count": null,
      "outputs": [
        {
          "output_type": "display_data",
          "data": {
            "text/plain": [
              "<Figure size 1000x500 with 8 Axes>"
            ],
            "image/png": "[encoded data removed]"
          },
          "metadata": {}
        }
      ]
    },
    {
      "cell_type": "markdown",
      "source": [
        "P3"
      ],
      "metadata": {
        "id": "PJPEnIL-MebL"
      }
    },
    {
      "cell_type": "code",
      "source": [
        "x = scipy.io.loadmat('x_formerly_known_as_twitter.mat')\n",
        "Xtr = x['Xtr']\n",
        "Xte = x['Xte']\n",
        "YtrMat = x['YtrMat']\n",
        "YteMat = x['YteMat']\n",
        "\n",
        "p_topics = np.random.randn(891, 50)\n",
        "p_weights = np.random.randn(50, 773)"
      ],
      "metadata": {
        "id": "-BTHxF3LMIMh"
      },
      "execution_count": null,
      "outputs": []
    },
    {
      "cell_type": "code",
      "source": [
        "for i in range(500):\n",
        "  den = p_topics @ p_weights\n",
        "  den[den == 0] = 0.0001\n",
        "\n",
        "  p_topics *= (Xtr/den) @ p_weights.T\n",
        "  p_topics /= np.ones([p_topics.shape[0], p_topics.shape[0]]) @ p_topics\n",
        "\n",
        "  den = p_topics @ p_weights\n",
        "  den[den == 0] = 0.0001\n",
        "\n",
        "  p_weights *= p_topics.T @ (Xtr/den)\n",
        "  p_weights /= np.ones([p_weights.shape[0], p_weights.shape[0]]) @ p_weights\n",
        "p_weights.shape"
      ],
      "metadata": {
        "id": "RhsLEQtmM9Mu",
        "colab": {
          "base_uri": "https://localhost:8080/"
        },
        "outputId": "d0932a94-0368-4f5c-c9fe-223d7670fcb4"
      },
      "execution_count": null,
      "outputs": [
        {
          "output_type": "execute_result",
          "data": {
            "text/plain": [
              "(50, 773)"
            ]
          },
          "metadata": {},
          "execution_count": 23
        }
      ]
    },
    {
      "cell_type": "code",
      "source": [
        "p_weights2 = np.random.rand(50,193)\n",
        "\n",
        "for i in range(500):\n",
        "  den = p_topics @ p_weights2\n",
        "  den[den == 0] = 0.0001\n",
        "\n",
        "  p_weights2 *= p_topics.T @ (Xte/den)\n",
        "  p_weights2 /= np.ones([p_weights2.shape[0], p_weights2.shape[0]]) @ p_weights2\n",
        "\n",
        "p_weights2.shape"
      ],
      "metadata": {
        "id": "Y4KqOoShNGIj",
        "colab": {
          "base_uri": "https://localhost:8080/"
        },
        "outputId": "d48589a8-e18f-4900-e0ce-01460e3f4571"
      },
      "execution_count": null,
      "outputs": [
        {
          "output_type": "execute_result",
          "data": {
            "text/plain": [
              "(50, 193)"
            ]
          },
          "metadata": {},
          "execution_count": 24
        }
      ]
    },
    {
      "cell_type": "code",
      "source": [
        "alpha = 0.005\n",
        "\n",
        "W = np.random.uniform(0, 5, (3, p_weights.shape[0]))\n",
        "b = np.random.uniform(0, 5, (3,1))\n",
        "error_plot = []\n",
        "\n",
        "for i in range(1000):\n",
        "  Y_hat = np.exp(np.dot(W, p_weights) + b)\n",
        "  Y_hat /= np.sum(Y_hat, axis=0).reshape(1,-1)\n",
        "\n",
        "  error = -np.sum(YtrMat * np.log(Y_hat))\n",
        "\n",
        "  difference = (Y_hat - YtrMat)\n",
        "\n",
        "  delta_w =  difference @ p_weights.T\n",
        "  delta_b = difference @ np.ones([YtrMat.shape[1],1])\n",
        "\n",
        "  W -= (alpha * delta_w)\n",
        "  b -= (alpha * delta_b)\n",
        "\n",
        "  error_plot.append(error)"
      ],
      "metadata": {
        "id": "FwMDnXYONOc3"
      },
      "execution_count": null,
      "outputs": []
    },
    {
      "cell_type": "code",
      "source": [
        "Z = (W @ p_weights2) + b\n",
        "Y_hat_test = np.exp(Z)\n",
        "\n",
        "Y_hat_test /= np.sum(Y_hat_test, axis=0).reshape(1,-1)\n",
        "\n",
        "train_accuracy = np.sum(np.argmax(Y_hat, axis=0) == np.argmax(YtrMat, axis=0)) / YtrMat.shape[1]\n",
        "test_accuracy = np.sum(np.argmax(Y_hat_test, axis=0) == np.argmax(YteMat, axis=0)) / YteMat.shape[1]\n",
        "\n",
        "print('Training acc: ' + str(np.round(train_accuracy, 4)))\n",
        "print('Testing acc: ' + str(np.round(test_accuracy, 4)))"
      ],
      "metadata": {
        "id": "otJQnCcANSNf",
        "colab": {
          "base_uri": "https://localhost:8080/"
        },
        "outputId": "11b86b48-6db7-48dd-a21e-9f2189b8e341"
      },
      "execution_count": null,
      "outputs": [
        {
          "output_type": "stream",
          "name": "stdout",
          "text": [
            "Training acc: 0.6197\n",
            "Testing acc: 0.5699\n"
          ]
        }
      ]
    },
    {
      "cell_type": "code",
      "source": [
        "\n",
        "plt.title('Convergence plot')\n",
        "plt.plot(error_plot)\n",
        "plt.show()"
      ],
      "metadata": {
        "id": "h4h5pE0iNWPR",
        "colab": {
          "base_uri": "https://localhost:8080/",
          "height": 452
        },
        "outputId": "32396064-8cb0-4df4-ad16-a9227199d545"
      },
      "execution_count": null,
      "outputs": [
        {
          "output_type": "display_data",
          "data": {
            "text/plain": [
              "<Figure size 640x480 with 1 Axes>"
            ],
            "image/png": "[encoded data removed]"
          },
          "metadata": {}
        }
      ]
    },
    {
      "cell_type": "markdown",
      "source": [
        "P4"
      ],
      "metadata": {
        "id": "7sj71jYdNt8d"
      }
    },
    {
      "cell_type": "code",
      "source": [
        "trX = scipy.io.loadmat('trX.mat')['trX']\n",
        "trY = scipy.io.loadmat('trY.mat')['trY']\n",
        "print(trX.shape, trY.shape)"
      ],
      "metadata": {
        "id": "w2WUYUq3NtbJ",
        "colab": {
          "base_uri": "https://localhost:8080/"
        },
        "outputId": "94b49a97-ef78-4e4d-8302-25d67469e584"
      },
      "execution_count": null,
      "outputs": [
        {
          "output_type": "stream",
          "name": "stdout",
          "text": [
            "(2, 160) (1, 160)\n"
          ]
        }
      ]
    },
    {
      "cell_type": "code",
      "source": [
        "def Ada_Boost(learnerCount, max_epochs, alpha, trX, trY):\n",
        "    fx = 0\n",
        "    l_weights = np.ones((1,trX.shape[1]))\n",
        "    error_adaboost, l_weights_list, beta_list = list(), list(), list()\n",
        "\n",
        "    for m in range(learnerCount):\n",
        "        W, b = np.random.uniform(-2, 2, (1, 2)), np.random.uniform()\n",
        "        epoch = 0\n",
        "        while epoch <= max_epochs:\n",
        "\n",
        "            Z = np.dot(W, trX) + b\n",
        "            pred = np.tanh(Z)\n",
        "\n",
        "            b_error = -l_weights * (trY - pred) * (1 - pred**2)\n",
        "            delta_w = b_error @ trX.T\n",
        "            delta_b = b_error @ np.ones_like(trY).T\n",
        "\n",
        "            W -= (alpha * delta_w)\n",
        "            b -= (alpha * delta_b)\n",
        "\n",
        "            epoch += 1\n",
        "\n",
        "        beta = 0.5 * np.log(np.sum(l_weights * (np.sign(pred) == trY)) / np.sum(l_weights * (np.sign(pred) != trY)))\n",
        "        fx += beta * np.sign(pred)\n",
        "        error = np.sum(np.sign(fx) != trY)\n",
        "        l_weights *= np.exp(- beta * trY * np.sign(pred))\n",
        "\n",
        "        error_adaboost.append(error)\n",
        "        l_weights_list.append(l_weights)\n",
        "\n",
        "    return fx, error_adaboost\n",
        "\n",
        "fx, error_adaboost = Ada_Boost(1000, 500, 0.05, trX, trY)\n",
        "\n",
        "print(\"Accuracy: \" + str(np.sum(np.sign(fx) == trY) / trY.shape[1]))"
      ],
      "metadata": {
        "id": "Svo5oe6COBZP",
        "colab": {
          "base_uri": "https://localhost:8080/"
        },
        "outputId": "96387260-02af-4d2e-c463-77337dd512a1"
      },
      "execution_count": null,
      "outputs": [
        {
          "output_type": "stream",
          "name": "stdout",
          "text": [
            "Accuracy: 0.78125\n"
          ]
        }
      ]
    },
    {
      "cell_type": "code",
      "source": [
        "plt.title('Error plot')\n",
        "plt.plot(error_adaboost)\n",
        "plt.show()"
      ],
      "metadata": {
        "id": "OAfUHoLJONV7",
        "colab": {
          "base_uri": "https://localhost:8080/",
          "height": 452
        },
        "outputId": "d58d0d94-59f6-4641-bc7b-68425d44ca12"
      },
      "execution_count": null,
      "outputs": [
        {
          "output_type": "display_data",
          "data": {
            "text/plain": [
              "<Figure size 640x480 with 1 Axes>"
            ],
            "image/png": "[encoded data removed]"
          },
          "metadata": {}
        }
      ]
    },
    {
      "cell_type": "code",
      "source": [
        "!jupyter nbconvert --to html MLSP_Project05-3.ipynb"
      ],
      "metadata": {
        "colab": {
          "base_uri": "https://localhost:8080/"
        },
        "id": "RmaRG9Eyazmj",
        "outputId": "71cb6bc9-fe0c-49cd-f3df-d1964b5ebbe5"
      },
      "execution_count": null,
      "outputs": [
        {
          "output_type": "stream",
          "name": "stdout",
          "text": [
            "[NbConvertApp] Converting notebook MLSP_Project05-3.ipynb to html\n",
            "[NbConvertApp] Writing 800211 bytes to MLSP_Project05-3.html\n"
          ]
        }
      ]
    }
  ]
}